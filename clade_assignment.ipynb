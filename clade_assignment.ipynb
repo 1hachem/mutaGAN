{
 "cells": [
  {
   "cell_type": "code",
   "execution_count": 39,
   "metadata": {},
   "outputs": [],
   "source": [
    "import pandas as pd\n",
    "import numpy as np\n",
    "import torch\n",
    "\n",
    "import pickle\n",
    "\n",
    "from Bio import SeqIO\n",
    "from utils.utils import read_json\n",
    "\n",
    "import warnings\n",
    "warnings.filterwarnings('ignore')"
   ]
  },
  {
   "cell_type": "code",
   "execution_count": 2,
   "metadata": {},
   "outputs": [],
   "source": [
    "clades = pd.read_csv(\"data/output/nextclade.tsv\",\"\\t\")"
   ]
  },
  {
   "cell_type": "code",
   "execution_count": 82,
   "metadata": {},
   "outputs": [],
   "source": [
    "# reading all records\n",
    "genomic_records = list(SeqIO.parse(\"data/ncbidata/genomic.fna\", \"fasta\"))\n",
    "\n",
    "#translate records \n",
    "protein_records = [seq.translate() for seq in genomic_records]"
   ]
  },
  {
   "cell_type": "code",
   "execution_count": 83,
   "metadata": {},
   "outputs": [],
   "source": [
    "vocab = set()\n",
    "for record in protein_records:\n",
    "    vocab.update(str(record.seq))\n",
    "    \n",
    "vocab.add(\"<pad>\"), vocab.add(\"<sos>\"), vocab.add(\"<eos>\")\n",
    "to_ix = {char: i for i, char in enumerate(vocab)}\n",
    "inv_to_ix = {v: k for k, v in to_ix.items()}"
   ]
  },
  {
   "cell_type": "code",
   "execution_count": 84,
   "metadata": {},
   "outputs": [],
   "source": [
    "class BiologicalSequenceDataset:\n",
    "    def __init__(self, sequences):\n",
    "        self.records = sequences\n",
    "\n",
    "    def __len__(self):\n",
    "        return len(self.records)\n",
    "\n",
    "    def __getitem__(self, i):\n",
    "        seq = self.records[i]\n",
    "        return torch.tensor([to_ix[residue] for residue in seq])\n",
    "\n",
    "def collate_fn(batch):\n",
    "    return torch.nn.utils.rnn.pad_sequence(\n",
    "        batch,\n",
    "        batch_first=True,\n",
    "        padding_value=to_ix[\"<pad>\"]\n",
    "    )"
   ]
  },
  {
   "cell_type": "code",
   "execution_count": 85,
   "metadata": {},
   "outputs": [],
   "source": [
    "#drop unassigned sequences\n",
    "indexes_to_drop = clades[clades[\"clade\"]==\"recombinant\"].index\n",
    "\n",
    "clades = clades.reset_index()\n",
    "clades = clades.drop(index=indexes_to_drop )\n",
    "\n",
    "for index in sorted(indexes_to_drop, reverse=True):\n",
    "    del protein_records[index]"
   ]
  },
  {
   "cell_type": "code",
   "execution_count": 23,
   "metadata": {},
   "outputs": [
    {
     "data": {
      "text/plain": [
       "array(['22B (Omicron)', '22C (Omicron)', '21L (Omicron)', '22A (Omicron)',\n",
       "       '21K (Omicron)', '21J (Delta)', '20A', '21M (Omicron)',\n",
       "       '21A (Delta)', '20B'], dtype=object)"
      ]
     },
     "execution_count": 23,
     "metadata": {},
     "output_type": "execute_result"
    }
   ],
   "source": [
    "clades[\"clade\"].unique()"
   ]
  },
  {
   "cell_type": "code",
   "execution_count": 86,
   "metadata": {},
   "outputs": [],
   "source": [
    "clades_in_out_path = \"data/clade_in_clade_out.json\"\n",
    "clades_in_out = read_json(clades_in_out_path)"
   ]
  },
  {
   "cell_type": "markdown",
   "metadata": {},
   "source": [
    "create pairs"
   ]
  },
  {
   "cell_type": "code",
   "execution_count": 87,
   "metadata": {},
   "outputs": [],
   "source": [
    "#work with indexes\n",
    "parents = []\n",
    "children = []\n",
    "for parent_clade in clades_in_out.keys():\n",
    "    for child_clade in clades_in_out[parent_clade]:\n",
    "        parent_index = clades[clades[\"clade\"]==parent_clade].index\n",
    "        child_index = clades[clades[\"clade\"]==child_clade].index\n",
    "        for p in parent_index:\n",
    "            for c in child_index:\n",
    "                parents.append(str(protein_records[p].seq))\n",
    "                children.append(str(protein_records[c].seq))\n",
    "                "
   ]
  },
  {
   "cell_type": "code",
   "execution_count": 88,
   "metadata": {},
   "outputs": [],
   "source": [
    "training_parents = torch.utils.data.DataLoader(\n",
    "    BiologicalSequenceDataset(parents),\n",
    "    batch_size=2,\n",
    "    collate_fn=collate_fn\n",
    ")\n",
    "\n",
    "training_children = torch.utils.data.DataLoader(\n",
    "    BiologicalSequenceDataset(children),\n",
    "    batch_size=2,\n",
    "    collate_fn=collate_fn\n",
    ")"
   ]
  },
  {
   "cell_type": "code",
   "execution_count": 89,
   "metadata": {},
   "outputs": [],
   "source": [
    "pickle.dump(training_parents, open(\"data/training_parents.p\", \"wb\"))\n",
    "pickle.dump(training_children, open(\"data/training_children.p\", \"wb\"))\n",
    "pickle.dump(to_ix, open(\"data/to_ix.p\", \"wb\"))"
   ]
  }
 ],
 "metadata": {
  "kernelspec": {
   "display_name": "Python 3.7.13 ('mutagan')",
   "language": "python",
   "name": "python3"
  },
  "language_info": {
   "codemirror_mode": {
    "name": "ipython",
    "version": 3
   },
   "file_extension": ".py",
   "mimetype": "text/x-python",
   "name": "python",
   "nbconvert_exporter": "python",
   "pygments_lexer": "ipython3",
   "version": "3.7.13"
  },
  "orig_nbformat": 4,
  "vscode": {
   "interpreter": {
    "hash": "a5b54ff124c154f0b6852c79d0f0c432427db67c0ce5a70e01cb85361a9b2339"
   }
  }
 },
 "nbformat": 4,
 "nbformat_minor": 2
}
