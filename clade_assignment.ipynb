{
 "cells": [
  {
   "cell_type": "code",
   "execution_count": 6,
   "metadata": {},
   "outputs": [],
   "source": [
    "import pandas as pd\n",
    "import numpy as np\n",
    "\n",
    "from Bio import SeqIO\n",
    "\n",
    "import warnings\n",
    "warnings.filterwarnings('ignore')"
   ]
  },
  {
   "cell_type": "code",
   "execution_count": 14,
   "metadata": {},
   "outputs": [],
   "source": [
    "clades = pd.read_csv(\"data/output/nextclade.tsv\",\"\\t\")"
   ]
  },
  {
   "cell_type": "code",
   "execution_count": 40,
   "metadata": {},
   "outputs": [
    {
     "data": {
      "text/plain": [
       "0        22B (Omicron)\n",
       "1        22B (Omicron)\n",
       "2        22C (Omicron)\n",
       "3        22C (Omicron)\n",
       "4        21L (Omicron)\n",
       "             ...      \n",
       "12925    21L (Omicron)\n",
       "12926    21L (Omicron)\n",
       "12927    21L (Omicron)\n",
       "12928    21L (Omicron)\n",
       "12929    21L (Omicron)\n",
       "Name: clade, Length: 12930, dtype: object"
      ]
     },
     "execution_count": 40,
     "metadata": {},
     "output_type": "execute_result"
    }
   ],
   "source": [
    "clades[\"clade\"]"
   ]
  },
  {
   "cell_type": "code",
   "execution_count": 47,
   "metadata": {},
   "outputs": [],
   "source": [
    "# reading all records\n",
    "genomic_records = list(SeqIO.parse(\"data/ncbidata/genomic.fna\", \"fasta\"))\n",
    "\n",
    "#translate records \n",
    "protein_records = [seq.translate() for seq in genomic_records]"
   ]
  },
  {
   "cell_type": "code",
   "execution_count": 44,
   "metadata": {},
   "outputs": [
    {
     "data": {
      "text/plain": [
       "Seq('TTGTAGATCTGTTCTCTAAACGAACTTTAAAATCTGTGTGGCTGTCACTCGGCT...GTA')"
      ]
     },
     "execution_count": 44,
     "metadata": {},
     "output_type": "execute_result"
    }
   ],
   "source": [
    "genomic_records[0].seq"
   ]
  },
  {
   "cell_type": "code",
   "execution_count": 46,
   "metadata": {},
   "outputs": [
    {
     "data": {
      "text/plain": [
       "<bound method SeqRecord.translate of SeqRecord(seq=Seq('TTGTAGATCTGTTCTCTAAACGAACTTTAAAATCTGTGTGGCTGTCACTCGGCT...GTA'), id='ON945782.1', name='ON945782.1', description='ON945782.1 Severe acute respiratory syndrome coronavirus 2 isolate SARS-CoV-2/human/USA/FL-CDC-QDX38154349/2022, complete genome', dbxrefs=[])>"
      ]
     },
     "execution_count": 46,
     "metadata": {},
     "output_type": "execute_result"
    }
   ],
   "source": [
    "protein_records[0]"
   ]
  },
  {
   "cell_type": "code",
   "execution_count": 43,
   "metadata": {},
   "outputs": [
    {
     "data": {
      "text/plain": [
       "12930"
      ]
     },
     "execution_count": 43,
     "metadata": {},
     "output_type": "execute_result"
    }
   ],
   "source": [
    "len(protein_records)"
   ]
  },
  {
   "cell_type": "code",
   "execution_count": 36,
   "metadata": {},
   "outputs": [
    {
     "data": {
      "text/plain": [
       "array(['22B (Omicron)', '22C (Omicron)', '21L (Omicron)', '22A (Omicron)',\n",
       "       '21K (Omicron)', '21J (Delta)', 'recombinant', '20A',\n",
       "       '21M (Omicron)', '21A (Delta)', '20B'], dtype=object)"
      ]
     },
     "execution_count": 36,
     "metadata": {},
     "output_type": "execute_result"
    }
   ],
   "source": [
    "clades[\"clade\"].unique()"
   ]
  },
  {
   "cell_type": "code",
   "execution_count": 37,
   "metadata": {},
   "outputs": [
    {
     "data": {
      "text/plain": [
       "{'19A': ['19B', '20A'],\n",
       " '20A': ['20E (EU1)', '20B', '20C'],\n",
       " '20B': ['20D', '20F', '20I_501Y.V1', '20J_501Y.V3'],\n",
       " '20C': ['20H_501Y.V2', '20G']}"
      ]
     },
     "execution_count": 37,
     "metadata": {},
     "output_type": "execute_result"
    }
   ],
   "source": [
    "{\"19A\": [\"19B\", \"20A\"], \"20A\": [\"20E (EU1)\", \"20B\", \"20C\"], \"20B\": [\"20D\", \"20F\", \"20I_501Y.V1\", \"20J_501Y.V3\"], \"20C\": [\"20H_501Y.V2\", \"20G\"]}"
   ]
  },
  {
   "cell_type": "code",
   "execution_count": null,
   "metadata": {},
   "outputs": [],
   "source": []
  }
 ],
 "metadata": {
  "kernelspec": {
   "display_name": "Python 3.7.13 ('mutagan')",
   "language": "python",
   "name": "python3"
  },
  "language_info": {
   "codemirror_mode": {
    "name": "ipython",
    "version": 3
   },
   "file_extension": ".py",
   "mimetype": "text/x-python",
   "name": "python",
   "nbconvert_exporter": "python",
   "pygments_lexer": "ipython3",
   "version": "3.7.13"
  },
  "orig_nbformat": 4,
  "vscode": {
   "interpreter": {
    "hash": "a5b54ff124c154f0b6852c79d0f0c432427db67c0ce5a70e01cb85361a9b2339"
   }
  }
 },
 "nbformat": 4,
 "nbformat_minor": 2
}
