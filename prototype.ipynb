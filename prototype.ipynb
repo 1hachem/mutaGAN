{
 "cells": [
  {
   "cell_type": "code",
   "execution_count": 2,
   "metadata": {},
   "outputs": [
    {
     "name": "stderr",
     "output_type": "stream",
     "text": [
      "/home/hachem/.conda/envs/mutagan/lib/python3.7/site-packages/tqdm/auto.py:22: TqdmWarning: IProgress not found. Please update jupyter and ipywidgets. See https://ipywidgets.readthedocs.io/en/stable/user_install.html\n",
      "  from .autonotebook import tqdm as notebook_tqdm\n"
     ]
    }
   ],
   "source": [
    "import torch\n",
    "import torch.nn as nn\n",
    "from torch.optim import Adam\n",
    "\n",
    "#from torchsummary import summary\n",
    "\n",
    "import tensorboard\n",
    "\n",
    "import pickle\n",
    "import numpy as np \n",
    "import pandas as pd \n",
    "import random\n",
    "\n",
    "from tqdm import tqdm\n",
    "\n",
    "import warnings\n",
    "warnings.filterwarnings('ignore')"
   ]
  },
  {
   "cell_type": "markdown",
   "metadata": {},
   "source": [
    ">dataloading"
   ]
  },
  {
   "cell_type": "markdown",
   "metadata": {},
   "source": [
    ">model"
   ]
  },
  {
   "cell_type": "code",
   "execution_count": 3,
   "metadata": {},
   "outputs": [],
   "source": [
    "device = \"cuda\" if torch.cuda.is_available() else \"cpu\""
   ]
  },
  {
   "cell_type": "code",
   "execution_count": 46,
   "metadata": {},
   "outputs": [],
   "source": [
    "class Encoder(nn.Module):\n",
    "    \n",
    "    def __init__(self, input_size, embedding_size, hidden_size, num_layers, disc=False):\n",
    "        super(Encoder,self).__init__()\n",
    "        self.input_size = input_size\n",
    "        self.embedding_size = embedding_size\n",
    "        self.hidden_size = hidden_size\n",
    "        self.num_layers = num_layers\n",
    "\n",
    "        if disc==True:\n",
    "            self.embedding = nn.Linear()\n",
    "        else:\n",
    "            self.embedding = nn.Embedding(num_embeddings=self.input_size, embedding_dim=self.embedding_size)\n",
    "\n",
    "        self.rnn = nn.LSTM(input_size = embedding_size, hidden_size= self.hidden_size, num_layers=self.num_layers, bidirectional=True, batch_first=True)\n",
    "\n",
    "\n",
    "    def forward(self, x):\n",
    "        #x shape : (batch_size, seq_len)\n",
    "        #embedding shape : (batch_size, seq_len, embedding_size)\n",
    "\n",
    "        embedding = self.embedding(x)\n",
    "        output, (hidden, cell) = self.rnn(embedding)\n",
    "\n",
    "        return hidden, cell \n",
    "\n",
    "\n",
    "class Decoder(nn.Module):\n",
    "    def __init__(self, input_size, embedding_size, hidden_size, output_size, num_layers):\n",
    "        super(Decoder,self).__init__()\n",
    "        self.input_size = input_size\n",
    "        self.embedding_size = embedding_size\n",
    "        self.hidden_size = hidden_size\n",
    "        self.num_layers = num_layers\n",
    "        self.output_size = output_size \n",
    "\n",
    "        self.embedding = nn.Embedding(num_embeddings=self.input_size, embedding_dim=self.embedding_size)\n",
    "        self.rnn = nn.LSTM(input_size = embedding_size, hidden_size= self.hidden_size, num_layers=self.num_layers, bidirectional=False, batch_first=True)\n",
    "        self.fc = nn.Linear(self.hidden_size, self.output_size)\n",
    "\n",
    "    def forward(self, x, hidden, cell):\n",
    "        embedding = self.embedding(x)\n",
    "        output, (hidden_, cell_) = self.rnn(embedding, (hidden, cell))\n",
    "        logits = self.fc(output)\n",
    "\n",
    "        pred = nn.functional.softmax(logits)\n",
    "\n",
    "        return pred, hidden_, cell_\n",
    "        \n",
    "\n",
    "class Seq2Seq(nn.Module):\n",
    "    def __init__(self, encoder, decoder, teacher_forcing_ratio=0.7):\n",
    "        super(Seq2Seq,self).__init__()\n",
    "        self.encoder = encoder\n",
    "        self.decoder = decoder \n",
    "        self.teacher_forcing_ratio = teacher_forcing_ratio\n",
    "\n",
    "    def forward(self, parent_batch, child_batch):\n",
    "        batch_size = parent_batch.shape[0]\n",
    "        child_len = child_batch.shape[-1]\n",
    "\n",
    "        hidden, state = self.encoder(parent_batch)\n",
    "\n",
    "        hidden_ = hidden.view(batch_size, self.encoder.hidden_size*2).unsqueeze(0)\n",
    "        state_ = state.view(batch_size, self.encoder.hidden_size*2).unsqueeze(0)\n",
    "\n",
    "        #add noise to the state \n",
    "        outputs = torch.zeros((batch_size, 1, self.decoder.output_size)).to(device)\n",
    "        x = to_ix[\"<sos>\"]*torch.ones((batch_size,1)).int().to(device)\n",
    "\n",
    "        for t in range(50): #range(child_len):\n",
    "            #output shape (batch_size, 1, vocab size)\n",
    "            #outputs shape ((batch_size, seq_len, vocab size))\n",
    "            output, hidden_, state_ = self.decoder(x, hidden_, state_)\n",
    "            outputs = torch.cat((outputs, output), dim=1)\n",
    "            \n",
    "            #teacher forcing \n",
    "            x = child_batch[:,t].unsqueeze(-1).int() if random.random() < self.teacher_forcing_ratio else output.argmax(-1)\n",
    "\n",
    "        return outputs\n",
    "\n",
    "    def get_encoder(self):\n",
    "        return self.encoder\n",
    "\n",
    "    def set_teacher_forcing_ratio(self, new_ratio):\n",
    "        self.teacher_forcing_ratio = new_ratio\n",
    "\n"
   ]
  },
  {
   "cell_type": "markdown",
   "metadata": {},
   "source": [
    ">training "
   ]
  },
  {
   "cell_type": "code",
   "execution_count": 80,
   "metadata": {},
   "outputs": [],
   "source": [
    "#mutaGAN \n",
    "vocab_size = 28\n",
    "\n",
    "#encoder\n",
    "encoder_emb_size = 250\n",
    "encoder_hidden_size = 256\n",
    "encoder_num_layers = 1 #128 \n",
    "\n",
    "#decoder\n",
    "decoder_emb_size = 250\n",
    "decoder_hidden_size = 256\n",
    "decoder_num_layers = 1 #128 \n",
    "\n",
    "#MLE training\n",
    "MLE_num_epochs = 72\n",
    "MLE_batch_size = 2 #16\n",
    "MLE_learning_rate = 0.01\n",
    "\n",
    "#GAN training\n",
    "GAN_num_epochs = 350\n",
    "GAN_batch_size = 16 \n",
    "GAN_learning_rate = 1e-3"
   ]
  },
  {
   "cell_type": "code",
   "execution_count": 21,
   "metadata": {},
   "outputs": [],
   "source": [
    "to_ix = pickle.load(open(\"data/to_ix.p\", \"rb\"))\n",
    "\n",
    "class BiologicalSequenceDataset:\n",
    "    def __init__(self, records):\n",
    "        self.records = records\n",
    "\n",
    "    def __len__(self):\n",
    "        return len(self.records)\n",
    "\n",
    "    def __getitem__(self, i):\n",
    "        seq = self.records[i]\n",
    "        return torch.tensor([to_ix[residue] for residue in seq])\n",
    "\n",
    "def collate_fn(batch):\n",
    "     return torch.nn.utils.rnn.pad_sequence(\n",
    "         batch,\n",
    "         batch_first=True,\n",
    "         padding_value=to_ix[\"<pad>\"]\n",
    "     )"
   ]
  },
  {
   "cell_type": "code",
   "execution_count": 22,
   "metadata": {},
   "outputs": [],
   "source": [
    "training_parents = pickle.load(open(\"data/training_parents.p\", \"rb\"))  \n",
    "children_parents = pickle.load(open(\"data/training_children.p\", \"rb\"))"
   ]
  },
  {
   "cell_type": "code",
   "execution_count": 81,
   "metadata": {},
   "outputs": [],
   "source": [
    "enc = Encoder(input_size=vocab_size, embedding_size=250, hidden_size=256, num_layers=1)\n",
    "dec = Decoder(input_size=vocab_size, embedding_size=250, hidden_size=256*2, output_size=vocab_size, num_layers=1)\n",
    "seq2seq = Seq2Seq(enc,dec)"
   ]
  },
  {
   "cell_type": "markdown",
   "metadata": {},
   "source": [
    ">MLE training"
   ]
  },
  {
   "cell_type": "code",
   "execution_count": 82,
   "metadata": {},
   "outputs": [],
   "source": [
    "criterion = nn.CrossEntropyLoss(ignore_index= to_ix[\"<pad>\"])\n",
    "optimizer = Adam(seq2seq.parameters(), lr= MLE_learning_rate)"
   ]
  },
  {
   "cell_type": "code",
   "execution_count": null,
   "metadata": {},
   "outputs": [],
   "source": [
    "for epoch in range(MLE_num_epochs):\n",
    "    for parent, child in zip(training_parents, children_parents):\n",
    "\n",
    "        parent = parent.to(device)\n",
    "        child = child.to(device)\n",
    "\n",
    "        #feed forward \n",
    "        output = seq2seq(parent, child)\n",
    "        loss = criterion(output, child[:,:output.shape[-1]])\n",
    "\n",
    "        #backpropagate\n",
    "        optimizer.zero_grad()\n",
    "        loss.backward()\n",
    "        optimizer.step()\n",
    "\n",
    "        print(\"loss\",loss.item())"
   ]
  },
  {
   "cell_type": "code",
   "execution_count": null,
   "metadata": {},
   "outputs": [],
   "source": [
    "# outs = seq2seq(batch,batch)\n",
    "# outs.argmax(-1).shape\n",
    "\n",
    "# for seq in outs.argmax(-1): \n",
    "#     print([inv_to_ix[t.item()] for t in seq])"
   ]
  },
  {
   "cell_type": "markdown",
   "metadata": {},
   "source": [
    "> GAN training "
   ]
  },
  {
   "cell_type": "code",
   "execution_count": 86,
   "metadata": {},
   "outputs": [],
   "source": [
    "class Discriminator(nn.Module):\n",
    "    def __init__(self, hidden_size):\n",
    "        super(Discriminator, self).__init__()\n",
    "        self.hidden_size = hidden_size\n",
    "        self.classifier = nn.Sequential(\n",
    "            nn.Dropout(0.2),\n",
    "            nn.BatchNorm1d(2*self.hidden_size),\n",
    "            nn.Linear(2*self.hidden_size, 128),\n",
    "            nn.LeakyReLU(0.1),\n",
    "            nn.Dropout(0.2),\n",
    "            nn.BatchNorm1d(128),\n",
    "            nn.Linear(128,64),\n",
    "            nn.LeakyReLU(0.2),\n",
    "            nn.BatchNorm1d(64),\n",
    "            nn.Linear(64,1),\n",
    "            nn.Sigmoid()\n",
    "            )\n",
    "        \n",
    "    def forward(self, x):\n",
    "        x = self.classifier(x)\n",
    "        return x"
   ]
  },
  {
   "cell_type": "code",
   "execution_count": 87,
   "metadata": {},
   "outputs": [],
   "source": [
    "class Encoder_disc(nn.Module):\n",
    "    \n",
    "    def __init__(self, input_size, embedding_size, hidden_size, num_layers):\n",
    "        super(Encoder_disc,self).__init__()\n",
    "        self.input_size = input_size\n",
    "        self.embedding_size = embedding_size\n",
    "        self.hidden_size = hidden_size\n",
    "        self.num_layers = num_layers\n",
    "\n",
    "        self.embedding = nn.Linear(input_size, embedding_size, bias=False)\n",
    "       \n",
    "        self.rnn = nn.LSTM(input_size = embedding_size, hidden_size= self.hidden_size, num_layers=self.num_layers, bidirectional=True, batch_first=True)\n",
    "\n",
    "\n",
    "    def forward(self, x):\n",
    "        #x shape : (batch_size, seq_len)\n",
    "        #embedding shape : (batch_size, seq_len, embedding_size)\n",
    "\n",
    "        embedding = self.embedding(x)\n",
    "        output, (hidden, cell) = self.rnn(embedding)\n",
    "\n",
    "        return hidden, cell \n"
   ]
  },
  {
   "cell_type": "code",
   "execution_count": 88,
   "metadata": {},
   "outputs": [],
   "source": [
    "disc = Discriminator(encoder_hidden_size)\n",
    "enc_disc = Encoder_disc(input_size=vocab_size, embedding_size=250, hidden_size=256, num_layers=1)"
   ]
  },
  {
   "cell_type": "code",
   "execution_count": 89,
   "metadata": {},
   "outputs": [],
   "source": [
    "optimizer_generator = Adam(seq2seq.parameters(), lr= MLE_learning_rate)\n",
    "optimizer_discriminator = Adam(disc.classifier.parameters(), lr= MLE_learning_rate)"
   ]
  },
  {
   "cell_type": "code",
   "execution_count": 130,
   "metadata": {},
   "outputs": [],
   "source": [
    "criterion = nn.BCELoss()"
   ]
  },
  {
   "cell_type": "code",
   "execution_count": null,
   "metadata": {},
   "outputs": [],
   "source": [
    "for epoch in range(GAN_num_epochs):\n",
    "    for parent, child in zip(training_parents, children_parents):\n",
    "\n",
    "        parent = parent.to(device)\n",
    "        child = child.to(device)\n",
    "\n",
    "        generated_child = seq2seq(parent, child)\n",
    "\n",
    "        encoder = seq2seq.get_encoder()\n",
    "        enc_disc.rnn.load_state_dict(encoder.rnn.state_dict())\n",
    "        enc_disc.embedding.weight = nn.Parameter(encoder.embedding.weight.T)\n",
    "\n",
    "        hidden, state = enc_disc(generated_child)\n",
    "        state = state.view(state.shape[0], enc_disc.hidden_size*2)\n",
    "\n",
    "        pred = disc(state)      \n",
    "\n",
    "        loss = criterion(pred, torch.zeros_like(pred))\n",
    "        print(loss.item())\n",
    "        loss.backward()\n"
   ]
  }
 ],
 "metadata": {
  "kernelspec": {
   "display_name": "Python 3.7.0 ('mutagan')",
   "language": "python",
   "name": "python3"
  },
  "language_info": {
   "codemirror_mode": {
    "name": "ipython",
    "version": 3
   },
   "file_extension": ".py",
   "mimetype": "text/x-python",
   "name": "python",
   "nbconvert_exporter": "python",
   "pygments_lexer": "ipython3",
   "version": "3.7.13"
  },
  "orig_nbformat": 4,
  "vscode": {
   "interpreter": {
    "hash": "a5b54ff124c154f0b6852c79d0f0c432427db67c0ce5a70e01cb85361a9b2339"
   }
  }
 },
 "nbformat": 4,
 "nbformat_minor": 2
}
